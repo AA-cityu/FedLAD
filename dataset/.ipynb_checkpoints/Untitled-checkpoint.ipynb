{
 "cells": [
  {
   "cell_type": "code",
   "execution_count": 1,
   "id": "340de3ec",
   "metadata": {},
   "outputs": [
    {
     "name": "stdout",
     "output_type": "stream",
     "text": [
      "保存前 10000 行到：BGL_test.log\n"
     ]
    }
   ],
   "source": [
    "def truncate_log_file(input_path, output_path, max_lines=10000):\n",
    "    with open(input_path, 'r', encoding='utf-8', errors='ignore') as infile:\n",
    "        lines = []\n",
    "        for i, line in enumerate(infile):\n",
    "            if i >= max_lines:\n",
    "                break\n",
    "            lines.append(line)\n",
    "\n",
    "    with open(output_path, 'w', encoding='utf-8') as outfile:\n",
    "        outfile.writelines(lines)\n",
    "\n",
    "    print(f\"保存前 {max_lines} 行到：{output_path}\")\n",
    "\n",
    "\n",
    "# 用法示例\n",
    "truncate_log_file('BGL.log', 'BGL_test.log', max_lines=10000)\n"
   ]
  },
  {
   "cell_type": "code",
   "execution_count": null,
   "id": "8ed2bd86",
   "metadata": {},
   "outputs": [],
   "source": []
  }
 ],
 "metadata": {
  "kernelspec": {
   "display_name": "Python 3",
   "language": "python",
   "name": "python3"
  },
  "language_info": {
   "codemirror_mode": {
    "name": "ipython",
    "version": 3
   },
   "file_extension": ".py",
   "mimetype": "text/x-python",
   "name": "python",
   "nbconvert_exporter": "python",
   "pygments_lexer": "ipython3",
   "version": "3.8.5"
  }
 },
 "nbformat": 4,
 "nbformat_minor": 5
}
